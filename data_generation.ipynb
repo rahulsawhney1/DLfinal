{
 "cells": [
  {
   "cell_type": "code",
   "execution_count": 1,
   "id": "b50df86a",
   "metadata": {},
   "outputs": [],
   "source": [
    "from selenium import webdriver\n",
    "from selenium.webdriver.common.by import By\n",
    "from selenium.webdriver.support.ui import Select\n",
    "\n",
    "from PIL import Image, ImageFont, ImageDraw\n",
    "from io import BytesIO\n",
    "import matplotlib.pyplot as plt\n",
    "\n",
    "import textwrap\n",
    "from selenium.webdriver.chrome.options import Options\n"
   ]
  },
  {
   "cell_type": "code",
   "execution_count": 2,
   "id": "68163bd0",
   "metadata": {},
   "outputs": [],
   "source": [
    "def break_fix(text, width, font, draw):\n",
    "    if not text:\n",
    "        return\n",
    "    lo = 0\n",
    "    hi = len(text)\n",
    "    while lo < hi:\n",
    "        mid = (lo + hi + 1) // 2\n",
    "        t = text[:mid]\n",
    "        w, h = draw.textsize(t, font=font)\n",
    "        if w <= width:\n",
    "            lo = mid\n",
    "        else:\n",
    "            hi = mid - 1\n",
    "    t = text[:lo]\n",
    "    w, h = draw.textsize(t, font=font)\n",
    "    yield t, w, h\n",
    "    yield from break_fix(text[lo:], width, font, draw)\n",
    "\n",
    "def fit_text(img, text, color, font):\n",
    "    width = img.size[0] - 2\n",
    "    draw = ImageDraw.Draw(img)\n",
    "    pieces = list(break_fix(text, width, font, draw))\n",
    "    height = sum(p[2] for p in pieces)\n",
    "    if height > img.size[1]:\n",
    "        raise ValueError(\"text doesn't fit\")\n",
    "    y = (img.size[1] - height) // 2\n",
    "    for t, w, h in pieces:\n",
    "        x = (img.size[0] - w) // 2\n",
    "        draw.text((x, y), t, font=font, fill=color)\n",
    "        y += h"
   ]
  },
  {
   "cell_type": "code",
   "execution_count": 4,
   "id": "d7503355",
   "metadata": {},
   "outputs": [],
   "source": [
    "\n",
    "driver = webdriver.Chrome()\n",
    " \n",
    "driver.maximize_window()\n",
    "url = \"https://www.randomtextgenerator.com/\"\n",
    "driver.get(url)\n",
    "\n",
    "font=ImageFont.truetype('/Library/Fonts/Arial Unicode.ttf', 16)\n",
    "languages = ['pt', 'ru', 'sr', 'es']\n",
    "\n",
    "for lang in languages:\n",
    "    for i in range(5000):\n",
    "        path = 'language_data/' + lang + '/' + str(i) + '.png'\n",
    "        driver.refresh()\n",
    "\n",
    "        newsletter = driver.find_element(By.XPATH, value=f\"//option[@value='{lang}']\")\n",
    "        newsletter.click()\n",
    "\n",
    "        driver.find_element(By.XPATH, \"//input[@type='submit']\").click()\n",
    "\n",
    "        text = driver.find_element(By.ID, \"randomtext_box\").text\n",
    "        text = text.split('\\n')[0]\n",
    "        im = Image.new(\"RGB\", (512, 512), \"white\")\n",
    "        fit_text(im, text, (0,0,0), font)\n",
    "\n",
    "        im.save(path)\n",
    "    \n",
    "driver.quit()\n",
    "\n"
   ]
  },
  {
   "cell_type": "code",
   "execution_count": null,
   "id": "75d2a23b",
   "metadata": {},
   "outputs": [],
   "source": []
  }
 ],
 "metadata": {
  "kernelspec": {
   "display_name": "Python 3",
   "language": "python",
   "name": "python3"
  },
  "language_info": {
   "codemirror_mode": {
    "name": "ipython",
    "version": 3
   },
   "file_extension": ".py",
   "mimetype": "text/x-python",
   "name": "python",
   "nbconvert_exporter": "python",
   "pygments_lexer": "ipython3",
   "version": "3.8.8"
  }
 },
 "nbformat": 4,
 "nbformat_minor": 5
}
